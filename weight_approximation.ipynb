{
 "cells": [
  {
   "cell_type": "markdown",
   "metadata": {},
   "source": []
  },
  {
   "cell_type": "markdown",
   "metadata": {},
   "source": [
    "## Weight Approximation Methods\n",
    "\n",
    "---\n",
    "The table below shows the surrogate weights that we obtain by applying three widely used weight approximation methods in Multi Attribute Decision Making (MADM) approaches. These methods are: Rank Order Centroid (ROC), Rank Sum (RS), and Rank Reciprocal (RR). For computing the weights in the table, we use the formulae below the table and we assume the rank of the attributes given in the table.\n",
    "\n",
    "\n",
    "\\begin{array}{LLLLL}\n",
    "\\hline \n",
    "  Rank & Attribute & ROC^a & RS^b & RR^c \\\\\\hline\n",
    "  1    & Key freshness  & 0.6111              & 0.5000            & 0.5455 \\\\\n",
    "  2    & Data freshness & 0.2778              & 0.3333            & 0.2727 \\\\\n",
    "  3    & Temperature    & 0.1111              & 0.1667            & 0.1818 \\\\\\hline \n",
    "\\end{array}\n",
    "\n",
    "\n",
    "\n",
    "### Formulae\n",
    "\n",
    "In the formulae below, $R_j$ denotes the rank of an attribute $j$.\n",
    "\n",
    "* ROC method: \n",
    "\n",
    "\\begin{equation*}\n",
    "^a w_j= 1/n\\sum_{k=R_j}^{n} 1/k\n",
    "\\end{equation*}\n",
    "\n",
    "* RS method: \n",
    "\n",
    "\\begin{equation*}\n",
    "^b w_j= 2(n+1-R_j)/n(n+1)\n",
    "\\end{equation*}\n",
    "\n",
    "\n",
    "* RR method: \n",
    "\n",
    "\\begin{equation*}\n",
    "^c w_i=(1/R_j)/(\\sum_{k=R_j}^{n} 1/k)\n",
    "\\end{equation*}\n",
    "\n",
    "\n",
    "\n",
    "\n",
    "\n",
    "\n",
    "\n",
    "\n"
   ]
  }
 ],
 "metadata": {
  "kernelspec": {
   "display_name": "Python 3",
   "language": "python",
   "name": "python3"
  },
  "language_info": {
   "codemirror_mode": {
    "name": "ipython",
    "version": 3
   },
   "file_extension": ".py",
   "mimetype": "text/x-python",
   "name": "python",
   "nbconvert_exporter": "python",
   "pygments_lexer": "ipython3",
   "version": "3.7.4"
  }
 },
 "nbformat": 4,
 "nbformat_minor": 1
}
