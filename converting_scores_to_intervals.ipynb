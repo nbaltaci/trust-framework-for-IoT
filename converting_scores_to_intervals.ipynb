{
 "cells": [
  {
   "cell_type": "markdown",
   "metadata": {},
   "source": [
    "## Converting Trust Scores into a Trust Interval\n",
    "\n",
    "---\n",
    "In the paper, we present a method to convert trust scores into a <b>distrust interval</b>. We also experimented another method that is a \"conventional confidence interval method\" to obtain a <b>trust interval</b>. We eventually selected the method that we present in the paper as it yields a narrower interval and less uncertainty of opinion triplets. By conventional confidence interval method, we imply using t-distribution to compute a confidence interval out of trust scores. The use of t-distribution is suggested when there is no knowledge about the population's behavior or sample size is small \\cite{field2013discovering}. We represent a trust interval as $TI_{ID}=[LTB, UTB]$, where $LTB$ and $UTB$ mean lower trust bound and upper trust bound, respectively.  We compute the $TI_{ID}$ as follows for the first method:\n",
    "\n",
    "\\begin{equation*}\n",
    "LTB=max\\lbrace 0,\\overline{RFT(d^{ID}_{t_i})}-(t_{{n-1},{1-\\alpha/2}}\\times SE_{RFT(d^{ID}_{t_i})})\\rbrace\n",
    "\\end{equation*}\n",
    "\n",
    "\\begin{equation*}\n",
    "UTB=min\\lbrace 1,\\overline{RFT(d^{ID}_{t_i})}+(t_{{n-1},{1-\\alpha/2}}\\times SE_{RFT(d^{ID}_{t_i})})\\rbrace\n",
    "\\end{equation*}\n",
    "\n",
    "where $\\overline{RFT(d^{ID}_{t_i})}$ is average of scores, $n$ is the number of data items for a given device $ID$, $\\alpha=0.05$ (significance level), and $SE_{RFT(d^{ID}_{t_i})}$ is standard error of scores. \n",
    "\n",
    "Using $FT$ scores in Table below (Table IV in the paper) and equations above, we compute $TI_{ID}=[0.0673,1.0000]$. The method we used in our paper resulted in a distrust interval $DI_{ID}=[0.3803,0.5489]$. As seen from these, conventional confidence interval method yields a wider range for trust scores, which means that there are more possible values that the real trust value will be drawn and so it leads to a higher uncertainty.\n",
    "\n",
    "\n",
    "  \n",
    "\n",
    "\n",
    "\n",
    "\n",
    "\n",
    "\\begin{array}{c|cc|cc|cc|c}\\hline\n",
    "Alternative & Key freshness &  & Data freshness & &Temperature & &FT   \\\\\n",
    "            & O & N         & O & N          & O & N       &      \\\\\\hline\n",
    "ID=1 d_1                    & 0.5000 & 0.5000                   & 0.0057 & 0.0057                      & 75 & 0.9460                     & 0.4122                                        \\\\\n",
    "ID=1 d_2                    & 0.5000 & 0.5000                   & 0.0059 & 0.0059                      & 75 & 0.9460                     & 0.4123                                        \\\\\n",
    "ID=1 d_3                    & 0.5000 & 0.5000                   & 0.0061 & 0.0061                      & 75 & 0.9460                     & 0.4123                                        \\\\\n",
    "ID=1 d_4                    & 1.0000 & 1.0000                   & 0.0063 & 0.0063                      & 74 & 0.9651                     & 0.7201                                        \\\\\n",
    "ID=1 d_5                    & 1.0000 & 1.0000                   & 0.0065 & 0.0065                      & 74 & 0.9651                     & 0.7201                                        \\\\\\hline\n",
    "Glob\\_min  &   &0   &  & 0  &   &0      \\\\\n",
    "Glob\\_max  &   & 1  &  & 1  &   &100    \\\\\n",
    "LPV_j    &   & -  &  & -  &   &32     \\\\\n",
    "UPV_j    &   & -  &  & -  &   &70     \\\\\\hline\n",
    "\\end{array}\n",
    "\n",
    "\n",
    "O: original value ($x_{ij}$), N: normalized value ($r_{ij}$\n",
    "\n",
    "\n",
    "\n",
    "\n",
    "\n",
    "\n",
    "\n",
    "\n",
    "\n",
    "\n",
    "\n",
    "\n",
    "\n",
    "\n"
   ]
  },
  {
   "cell_type": "code",
   "execution_count": null,
   "metadata": {},
   "outputs": [],
   "source": []
  }
 ],
 "metadata": {
  "kernelspec": {
   "display_name": "Python 3",
   "language": "python",
   "name": "python3"
  },
  "language_info": {
   "codemirror_mode": {
    "name": "ipython",
    "version": 3
   },
   "file_extension": ".py",
   "mimetype": "text/x-python",
   "name": "python",
   "nbconvert_exporter": "python",
   "pygments_lexer": "ipython3",
   "version": "3.7.4"
  }
 },
 "nbformat": 4,
 "nbformat_minor": 1
}
